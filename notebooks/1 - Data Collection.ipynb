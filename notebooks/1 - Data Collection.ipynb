{
 "cells": [
  {
   "cell_type": "markdown",
   "id": "88ddf415",
   "metadata": {},
   "source": [
    "# 1 - Data Collection\n",
    "We will use this notebook to collect the dataset."
   ]
  },
  {
   "cell_type": "code",
   "execution_count": null,
   "id": "b99bd6e3",
   "metadata": {},
   "outputs": [],
   "source": []
  }
 ],
 "metadata": {
  "kernelspec": {
   "display_name": "dsenv",
   "language": "python",
   "name": "dsenv"
  },
  "language_info": {
   "codemirror_mode": {
    "name": "ipython",
    "version": 3
   },
   "file_extension": ".py",
   "mimetype": "text/x-python",
   "name": "python",
   "nbconvert_exporter": "python",
   "pygments_lexer": "ipython3",
   "version": "3.9.10"
  }
 },
 "nbformat": 4,
 "nbformat_minor": 5
}
