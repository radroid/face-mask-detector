{
 "cells": [
  {
   "cell_type": "markdown",
   "id": "88ddf415",
   "metadata": {},
   "source": [
    "# 1 - Data Collection for Face Mask Detection\n",
    "We will use this notebook to collect images of ourselves, with and without face mask using OpenCV.\n",
    "\n",
    ">**Project Title** <br>Face Mask Detector</br>\n",
    "**Course** <br>AIDI-2000-02 Applied Machine Learning</br>\n",
    "**NOTE** <br> Most of the code in this notebook was inspired by **[akashkam559](https://github.com/akashkam559/)**'s **[GitHub repository](https://github.com/akashkam559/Covid19-Face-Mask-Detector)**. \n",
    "\n",
    "\n",
    "# 1. Collect Images"
   ]
  },
  {
   "cell_type": "code",
   "execution_count": 1,
   "id": "b99bd6e3",
   "metadata": {},
   "outputs": [],
   "source": [
    "# import required modules\n",
    "import cv2\n",
    "import uuid\n",
    "import time\n",
    "import os"
   ]
  },
  {
   "cell_type": "code",
   "execution_count": 2,
   "id": "88df7542",
   "metadata": {},
   "outputs": [],
   "source": [
    "# Capture images\n",
    "cap = cv2.VideoCapture(0) # `0` is device-specific, ensure you change it if you face any errors\n",
    "\n",
    "# Define image dimensions based on the camera\n",
    "WIDTH = int(cap.get(cv2.CAP_PROP_FRAME_WIDTH))\n",
    "HEIGHT = int(cap.get(cv2.CAP_PROP_FRAME_HEIGHT))"
   ]
  },
  {
   "cell_type": "code",
   "execution_count": 3,
   "id": "f9ae8196",
   "metadata": {},
   "outputs": [],
   "source": [
    "labels = ['no mask', 'mask']\n",
    "number_imgs = 20"
   ]
  },
  {
   "cell_type": "code",
   "execution_count": 5,
   "id": "9ff89dce",
   "metadata": {},
   "outputs": [
    {
     "name": "stdout",
     "output_type": "stream",
     "text": [
      "Collecting images for mask\n",
      "Collecting image 0\n",
      "Collecting image 1\n",
      "Collecting image 2\n",
      "Collecting image 3\n",
      "Collecting image 4\n",
      "Collecting image 5\n",
      "Collecting image 6\n",
      "Collecting image 7\n",
      "Collecting image 8\n",
      "Collecting image 9\n",
      "Collecting image 10\n",
      "Collecting image 11\n",
      "Collecting image 12\n",
      "Collecting image 13\n",
      "Collecting image 14\n",
      "Collecting image 15\n",
      "Collecting image 16\n",
      "Collecting image 17\n",
      "Collecting image 18\n",
      "Collecting image 19\n"
     ]
    }
   ],
   "source": [
    "IMAGES_PATH = '../data/images'\n",
    "\n",
    "# capture images for each label\n",
    "for label in labels:\n",
    "    cap = cv2.VideoCapture(0)\n",
    "    print('Collecting images for {}'.format(label))\n",
    "    time.sleep(5)\n",
    "    \n",
    "    # take multiple images\n",
    "    for imgnum in range(number_imgs):\n",
    "        print('Collecting image {}'.format(imgnum))\n",
    "        ret, frame = cap.read()\n",
    "        imgname = os.path.join(IMAGES_PATH, label, label+'-'+f'{str(uuid.uuid4())}.jpg')\n",
    "        cv2.imwrite(imgname, frame)\n",
    "        cv2.imshow('frame', frame)\n",
    "        time.sleep(2)\n",
    "\n",
    "        if cv2.waitKey(1) & 0xFF == ord('q'):\n",
    "            break\n",
    "cap.release()\n",
    "cv2.destroyAllWindows()"
   ]
  },
  {
   "cell_type": "markdown",
   "id": "26a420a2",
   "metadata": {},
   "source": [
    "The above cell was run twice:\n",
    "1. Images without and with mask (white) were taken.\n",
    "2. Images with mask (black) were taken."
   ]
  },
  {
   "cell_type": "markdown",
   "id": "d0f0d244",
   "metadata": {},
   "source": [
    "# 2. Label Images\n",
    "In this section, we will use [`labelImg`](https://github.com/tzutalin/labelImg) module to label the images captured above. Please follow the instructions on the GitHub repository to install the requirements and run the module."
   ]
  },
  {
   "cell_type": "code",
   "execution_count": 6,
   "id": "2e9bc0f7",
   "metadata": {},
   "outputs": [],
   "source": [
    "# define path to clone labelImg repository.\n",
    "LABELIMG_PATH = os.path.join('Tensorflow', 'labelimg')"
   ]
  },
  {
   "cell_type": "code",
   "execution_count": 7,
   "id": "a80a1c3b",
   "metadata": {},
   "outputs": [],
   "source": [
    "if not os.path.exists(LABELIMG_PATH):\n",
    "    !mkdir {LABELIMG_PATH}\n",
    "    !git clone https://github.com/tzutalin/labelImg {LABELIMG_PATH}"
   ]
  },
  {
   "cell_type": "code",
   "execution_count": 10,
   "id": "bbbebf93",
   "metadata": {},
   "outputs": [
    {
     "name": "stdout",
     "output_type": "stream",
     "text": [
      "make: *** No rule to make target `qt5py3'.  Stop.\r\n"
     ]
    }
   ],
   "source": [
    "if os.name == 'posix':\n",
    "    !make qt5py3\n",
    "if os.name =='nt':\n",
    "    !cd {LABELIMG_PATH} && pyrcc5 -o libs/resources.py resources.qrc"
   ]
  },
  {
   "cell_type": "code",
   "execution_count": 8,
   "id": "f3a166e8",
   "metadata": {},
   "outputs": [
    {
     "name": "stdout",
     "output_type": "stream",
     "text": [
      "Traceback (most recent call last):\r\n",
      "  File \"/Users/raj/Documents/DurhamCollege/AI/Semester_2/Applied-ML-AIDI-2000/Assignments/face-mask-detector/notebooks/Tensorflow/labelimg/labelImg.py\", line 13, in <module>\r\n",
      "    from PyQt5.QtGui import *\r\n",
      "ModuleNotFoundError: No module named 'PyQt5'\r\n",
      "\r\n",
      "During handling of the above exception, another exception occurred:\r\n",
      "\r\n",
      "Traceback (most recent call last):\r\n",
      "  File \"/Users/raj/Documents/DurhamCollege/AI/Semester_2/Applied-ML-AIDI-2000/Assignments/face-mask-detector/notebooks/Tensorflow/labelimg/labelImg.py\", line 22, in <module>\r\n",
      "    import sip\r\n",
      "ModuleNotFoundError: No module named 'sip'\r\n"
     ]
    }
   ],
   "source": [
    "# change directory and load image labeller.\n",
    "!cd {LABELIMG_PATH} && python labelImg.py"
   ]
  },
  {
   "cell_type": "code",
   "execution_count": null,
   "id": "3a11cd5d",
   "metadata": {},
   "outputs": [],
   "source": []
  }
 ],
 "metadata": {
  "kernelspec": {
   "display_name": "fmdenv",
   "language": "python",
   "name": "fmdenv"
  },
  "language_info": {
   "codemirror_mode": {
    "name": "ipython",
    "version": 3
   },
   "file_extension": ".py",
   "mimetype": "text/x-python",
   "name": "python",
   "nbconvert_exporter": "python",
   "pygments_lexer": "ipython3",
   "version": "3.9.10"
  }
 },
 "nbformat": 4,
 "nbformat_minor": 5
}
