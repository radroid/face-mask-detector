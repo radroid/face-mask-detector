{
 "cells": [
  {
   "cell_type": "markdown",
   "id": "b0664d68",
   "metadata": {},
   "source": [
    "# 2 - Modelling and Evaluation\n",
    "In this notebook, we will do the following:\n",
    "    1. Determine the best pre-trained model (on COCO dataset) for our use-case.\n",
    "    2. Conduct a few-shot eager learning.\n",
    "    3. Save the model to be used in the real-time application.\n",
    "\n",
    ">**Project Title** <br>Face Mask Detector</br>\n",
    "**Course** <br>AIDI-2000-02 Applied Machine Learning</br>\n",
    "**NOTE** <br>Most of the code in this notebook was inspired by **[akashkam559](https://github.com/akashkam559/)**'s **[GitHub repository](https://github.com/akashkam559/Covid19-Face-Mask-Detector)**. \n",
    "\n",
    "# Table of Contents\n",
    "1. Load modules and dataset\n",
    "2. Data Preparation and Exploration\n",
    "3. Model Loading and Training\n",
    "4. Model Evaluation"
   ]
  },
  {
   "cell_type": "markdown",
   "id": "2f7aee61",
   "metadata": {},
   "source": [
    "# 1. Load Modules and Dataset"
   ]
  },
  {
   "cell_type": "markdown",
   "id": "84a21e08",
   "metadata": {},
   "source": [
    "## 1.1 Load Modules"
   ]
  },
  {
   "cell_type": "code",
   "execution_count": 12,
   "id": "dda79350",
   "metadata": {},
   "outputs": [],
   "source": [
    "# import modules\n",
    "import pandas as pd\n",
    "import tensorflow as tf\n",
    "import pathlib\n",
    "\n",
    "# Source: YouTube (Nicholas Rente)\n",
    "from tensorflow.keras.preprocessing.image import ImageDataGenerator\n",
    "from tensorflow.keras.applications import MobileNetV2\n",
    "from tensorflow.keras.layers import AveragePooling2D\n",
    "from tensorflow.keras.layers import Dropout\n",
    "from tensorflow.keras.layers import Flatten\n",
    "from tensorflow.keras.layers import Dense\n",
    "from tensorflow.keras.layers import Input\n",
    "from tensorflow.keras.models import Model\n",
    "from tensorflow.keras.optimizers import Adam\n",
    "from tensorflow.keras.applications.mobilenet_v2 import preprocess_input\n",
    "from tensorflow.keras.preprocessing.image import img_to_array\n",
    "from tensorflow.keras.preprocessing.image import load_img\n",
    "from tensorflow.keras.utils import to_categorical\n",
    "from sklearn.preprocessing import LabelBinarizer\n",
    "from sklearn.model_selection import train_test_split\n",
    "from sklearn.metrics import classification_report\n",
    "from imutils import paths\n",
    "import matplotlib.pyplot as plt\n",
    "import numpy as np\n",
    "import argparse\n",
    "import os"
   ]
  },
  {
   "cell_type": "markdown",
   "id": "fae70fef",
   "metadata": {},
   "source": [
    "## 1.2 Define Variables"
   ]
  },
  {
   "cell_type": "code",
   "execution_count": 77,
   "id": "03b3bddb",
   "metadata": {},
   "outputs": [],
   "source": [
    "# Define important file paths\n",
    "\n",
    "# Define model related paths & filenames\n",
    "CUSTOM_MODEL_NAME = 'my_ssd_mobnet' \n",
    "PRETRAINED_MODEL_NAME = 'centernet_mobilenetv2fpn_512x512_coco17_od'\n",
    "PRETRAINED_MODEL_URL = 'http://download.tensorflow.org/models/object_detection/tf2/20210210/centernet_mobilenetv2fpn_512x512_coco17_od.tar.gz'\n",
    "TF_RECORD_SCRIPT_NAME = 'generate_tfrecord.py'\n",
    "LABEL_MAP_NAME = 'label_map.pbtxt'\n",
    "\n",
    "\n",
    "# Defining unique locations\n",
    "WORKSPACE_PATH = '../Tensorflow/workspace'\n",
    "SCRIPTS_PATH = '../Tensorflow/scripts'\n",
    "APIMODEL_PATH = '../Tensorflow/models'\n",
    "\n",
    "# Define dependent locations\n",
    "ANNOTATION_PATH = os.path.join(WORKSPACE_PATH, 'annotations')\n",
    "IMAGE_PATH = os.path.join(WORKSPACE_PATH, 'images')\n",
    "MODEL_PATH = os.path.join(WORKSPACE_PATH, 'models')\n",
    "PRETRAINED_MODEL_PATH = os.path.join(WORKSPACE_PATH, 'pre-trained-models')\n",
    "CONFIG_PATH = os.path.join(MODEL_PATH, 'my_ssd_mobnetV2_512x512/pipeline.config')\n",
    "CHECKPOINT_PATH = os.path.join(MODEL_PATH, 'my_ssd_mobnetV2_512x512/')\n",
    "\n",
    "# initialize the initial learning rate, number of epochs to train for,\n",
    "# and batch size\n",
    "INIT_LR = 1e-4\n",
    "EPOCHS = 20\n",
    "BATCH = 32"
   ]
  },
  {
   "cell_type": "markdown",
   "id": "0c9f990c",
   "metadata": {},
   "source": [
    "## 1.3 Load dataset"
   ]
  },
  {
   "cell_type": "code",
   "execution_count": 78,
   "id": "ff08bfc8",
   "metadata": {},
   "outputs": [],
   "source": [
    "# Get list of images in the dataset directory\n",
    "imagePaths = list(paths.list_images(DATASETDIR_PATH))\n",
    "\n",
    "# Initialize imp lists\n",
    "data = []\n",
    "labels = []"
   ]
  },
  {
   "cell_type": "markdown",
   "id": "8779c145",
   "metadata": {},
   "source": [
    "# 2. Data Preparation and Exploration"
   ]
  },
  {
   "cell_type": "markdown",
   "id": "cd5acf15",
   "metadata": {},
   "source": [
    "## 2.1 Data Cleansing & Transformation"
   ]
  },
  {
   "cell_type": "code",
   "execution_count": 79,
   "id": "15560b4e",
   "metadata": {},
   "outputs": [],
   "source": [
    "for imagePath in imagePaths:\n",
    "    # Class label from directory name\n",
    "    label = imagePath.split(os.path.sep)[-2]\n",
    "\n",
    "    # Load the input image (224x224) and preprocess it\n",
    "    image = load_img(imagePath, target_size=(224, 224))\n",
    "    image = img_to_array(image)\n",
    "    image = preprocess_input(image)\n",
    "\n",
    "    # Update the data and labels lists, respectively\n",
    "    data.append(image)\n",
    "    labels.append(label)"
   ]
  },
  {
   "cell_type": "code",
   "execution_count": 80,
   "id": "df28279f",
   "metadata": {},
   "outputs": [],
   "source": [
    "# Convert the data and labels to NumPy arrays\n",
    "data = np.array(data, dtype=\"float32\")\n",
    "labels = np.array(labels)\n",
    "\n",
    "# Perform one-hot encoding on the labels\n",
    "lb = LabelBinarizer()\n",
    "labels = lb.fit_transform(labels)\n",
    "labels = to_categorical(labels)"
   ]
  },
  {
   "cell_type": "code",
   "execution_count": 81,
   "id": "49473c86",
   "metadata": {},
   "outputs": [],
   "source": [
    "# Split the dataset | 80 train - 20 test split\n",
    "(trainX, testX, trainY, testY) = train_test_split(data, labels,\n",
    "                                                  test_size = 0.20,\n",
    "                                                  stratify = labels,\n",
    "                                                  random_state = 42)"
   ]
  },
  {
   "cell_type": "markdown",
   "id": "7638aacc",
   "metadata": {},
   "source": [
    "## 2.2 Exploratory Data Analsyis"
   ]
  },
  {
   "cell_type": "code",
   "execution_count": 82,
   "id": "4e7d71f9",
   "metadata": {},
   "outputs": [
    {
     "data": {
      "text/plain": [
       "(96, 224, 224, 3)"
      ]
     },
     "execution_count": 82,
     "metadata": {},
     "output_type": "execute_result"
    }
   ],
   "source": [
    "trainX.shape"
   ]
  },
  {
   "cell_type": "code",
   "execution_count": 83,
   "id": "ff839f16",
   "metadata": {},
   "outputs": [
    {
     "data": {
      "text/plain": [
       "(96, 2)"
      ]
     },
     "execution_count": 83,
     "metadata": {},
     "output_type": "execute_result"
    }
   ],
   "source": [
    "trainY.shape"
   ]
  },
  {
   "cell_type": "code",
   "execution_count": 84,
   "id": "023a150f",
   "metadata": {},
   "outputs": [
    {
     "data": {
      "text/plain": [
       "'Percentage of images with mask (of the total images):  67%'"
      ]
     },
     "execution_count": 84,
     "metadata": {},
     "output_type": "execute_result"
    }
   ],
   "source": [
    "f\"Percentage of images with mask (of the total images): {sum(trainY[:, 0]) / len(trainY): .0%}\""
   ]
  },
  {
   "cell_type": "code",
   "execution_count": 107,
   "id": "dc9a361e",
   "metadata": {},
   "outputs": [
    {
     "data": {
      "text/html": [
       "<div>\n",
       "<style scoped>\n",
       "    .dataframe tbody tr th:only-of-type {\n",
       "        vertical-align: middle;\n",
       "    }\n",
       "\n",
       "    .dataframe tbody tr th {\n",
       "        vertical-align: top;\n",
       "    }\n",
       "\n",
       "    .dataframe thead th {\n",
       "        text-align: right;\n",
       "    }\n",
       "</style>\n",
       "<table border=\"1\" class=\"dataframe\">\n",
       "  <thead>\n",
       "    <tr style=\"text-align: right;\">\n",
       "      <th></th>\n",
       "      <th>train</th>\n",
       "      <th>test</th>\n",
       "    </tr>\n",
       "  </thead>\n",
       "  <tbody>\n",
       "    <tr>\n",
       "      <th>mask</th>\n",
       "      <td>64.0</td>\n",
       "      <td>16.0</td>\n",
       "    </tr>\n",
       "    <tr>\n",
       "      <th>no mask</th>\n",
       "      <td>32.0</td>\n",
       "      <td>8.0</td>\n",
       "    </tr>\n",
       "  </tbody>\n",
       "</table>\n",
       "</div>"
      ],
      "text/plain": [
       "         train  test\n",
       "mask      64.0  16.0\n",
       "no mask   32.0   8.0"
      ]
     },
     "execution_count": 107,
     "metadata": {},
     "output_type": "execute_result"
    }
   ],
   "source": [
    "import pandas as pd\n",
    "\n",
    "data = pd.DataFrame({\n",
    "    \"train\": {\n",
    "        \"mask\": sum(trainY[:, 0]),\n",
    "        \"no mask\": sum(trainY[:, 1])\n",
    "    },\n",
    "    \"test\": {\n",
    "        \"mask\": sum(testY[:, 0]),\n",
    "        \"no mask\": sum(testY[:, 1])\n",
    "    }\n",
    "})\n",
    "\n",
    "data"
   ]
  },
  {
   "cell_type": "code",
   "execution_count": 108,
   "id": "870add9d",
   "metadata": {},
   "outputs": [
    {
     "data": {
      "image/png": "[encoded data removed]",
      "text/plain": [
       "<Figure size 720x504 with 1 Axes>"
      ]
     },
     "metadata": {
      "needs_background": "light"
     },
     "output_type": "display_data"
    }
   ],
   "source": [
    "# Instantiate plot\n",
    "fig, ax = plt.subplots(figsize=(7,7))\n",
    "\n",
    "# Bar plot for training and testing data)\n",
    "data.plot(kind='bar', figsize=(10,7), ax=ax)\n",
    "\n",
    "# Formatting\n",
    "plt.xlabel('Shape', fontdict={'size': 16, 'weight': 'bold'});\n",
    "plt.ylabel('Number of images', fontdict={'size': 16, 'weight': 'bold'});\n",
    "plt.title('Images per Class', fontdict={'size': 20, 'weight': 'bold'});\n",
    "plt.xticks(rotation=0, fontsize=14);"
   ]
  },
  {
   "cell_type": "markdown",
   "id": "ac8b111e",
   "metadata": {},
   "source": [
    "# 3. Model Loading and Training"
   ]
  },
  {
   "cell_type": "markdown",
   "id": "11903e4e",
   "metadata": {},
   "source": [
    "## 3.1 Pre-train Model Selection\n",
    "\n",
    "> Goal: To build a **real-time** face mask detector ensure the right balance between speed and accuracy (mAP).\n",
    "\n",
    "In this section, we will use the [TensorFlow 2 Detection Model Zoo](https://github.com/tensorflow/models/blob/master/research/object_detection/g3doc/tf2_detection_zoo.md) table and metrics to determine the ideal model with the highest accuracy and fastest speed (lowest value)."
   ]
  },
  {
   "cell_type": "code",
   "execution_count": 109,
   "id": "72c5ae25-93c6-4041-b0eb-224a9544addd",
   "metadata": {
    "scrolled": true
   },
   "outputs": [
    {
     "data": {
      "text/html": [
       "<div>\n",
       "<style scoped>\n",
       "    .dataframe tbody tr th:only-of-type {\n",
       "        vertical-align: middle;\n",
       "    }\n",
       "\n",
       "    .dataframe tbody tr th {\n",
       "        vertical-align: top;\n",
       "    }\n",
       "\n",
       "    .dataframe thead th {\n",
       "        text-align: right;\n",
       "    }\n",
       "</style>\n",
       "<table border=\"1\" class=\"dataframe\">\n",
       "  <thead>\n",
       "    <tr style=\"text-align: right;\">\n",
       "      <th></th>\n",
       "      <th>Model name</th>\n",
       "      <th>Speed (ms)</th>\n",
       "      <th>COCO mAP</th>\n",
       "      <th>Outputs</th>\n",
       "    </tr>\n",
       "  </thead>\n",
       "  <tbody>\n",
       "    <tr>\n",
       "      <th>0</th>\n",
       "      <td>CenterNet HourGlass104 512x512</td>\n",
       "      <td>70</td>\n",
       "      <td>41.9</td>\n",
       "      <td>Boxes</td>\n",
       "    </tr>\n",
       "    <tr>\n",
       "      <th>1</th>\n",
       "      <td>CenterNet HourGlass104 Keypoints 512x512</td>\n",
       "      <td>76</td>\n",
       "      <td>50.7</td>\n",
       "      <td>Boxes/Keypoints</td>\n",
       "    </tr>\n",
       "    <tr>\n",
       "      <th>2</th>\n",
       "      <td>CenterNet HourGlass104 1024x1024</td>\n",
       "      <td>197</td>\n",
       "      <td>44.5</td>\n",
       "      <td>Boxes</td>\n",
       "    </tr>\n",
       "    <tr>\n",
       "      <th>3</th>\n",
       "      <td>CenterNet HourGlass104 Keypoints 1024x1024</td>\n",
       "      <td>211</td>\n",
       "      <td>53.6</td>\n",
       "      <td>Boxes/Keypoints</td>\n",
       "    </tr>\n",
       "    <tr>\n",
       "      <th>4</th>\n",
       "      <td>CenterNet Resnet50 V1 FPN 512x512</td>\n",
       "      <td>27</td>\n",
       "      <td>31.2</td>\n",
       "      <td>Boxes</td>\n",
       "    </tr>\n",
       "  </tbody>\n",
       "</table>\n",
       "</div>"
      ],
      "text/plain": [
       "                                   Model name  Speed (ms)  COCO mAP  \\\n",
       "0              CenterNet HourGlass104 512x512          70      41.9   \n",
       "1    CenterNet HourGlass104 Keypoints 512x512          76      50.7   \n",
       "2            CenterNet HourGlass104 1024x1024         197      44.5   \n",
       "3  CenterNet HourGlass104 Keypoints 1024x1024         211      53.6   \n",
       "4           CenterNet Resnet50 V1 FPN 512x512          27      31.2   \n",
       "\n",
       "           Outputs  \n",
       "0            Boxes  \n",
       "1  Boxes/Keypoints  \n",
       "2            Boxes  \n",
       "3  Boxes/Keypoints  \n",
       "4            Boxes  "
      ]
     },
     "execution_count": 109,
     "metadata": {},
     "output_type": "execute_result"
    }
   ],
   "source": [
    "# Load data about pretrained model\n",
    "df = pd.read_csv('../Tensorflow/workspace/data/TF2-detection-model-zoo-meta.csv')\n",
    "df.head()"
   ]
  },
  {
   "cell_type": "markdown",
   "id": "59082055-5c80-49e6-a134-343f9fe542bb",
   "metadata": {},
   "source": [
    "We want the model with the highest accuracy and lowest inference time (fastest speed). Therefore, we can create a new variables that takes the ratio of the two metrics - `COCO mAP / Speed (ms)`. Maximizing this ratio will give us the models that will work best for the use-case. \n",
    "\n",
    "> Note: Many assumptions are in the above model selection process. One of them being the model size - this is usaully given in terms of `training parameters`. As these models are already trained, the size of the models is not taken into consideration. However, many other factors that could impact the decision of selecting the perfect model are assumed to have negligible impact. "
   ]
  },
  {
   "cell_type": "code",
   "execution_count": 110,
   "id": "f893ed31-73ef-4062-bedb-ce22c08e2331",
   "metadata": {},
   "outputs": [
    {
     "data": {
      "text/html": [
       "<div>\n",
       "<style scoped>\n",
       "    .dataframe tbody tr th:only-of-type {\n",
       "        vertical-align: middle;\n",
       "    }\n",
       "\n",
       "    .dataframe tbody tr th {\n",
       "        vertical-align: top;\n",
       "    }\n",
       "\n",
       "    .dataframe thead th {\n",
       "        text-align: right;\n",
       "    }\n",
       "</style>\n",
       "<table border=\"1\" class=\"dataframe\">\n",
       "  <thead>\n",
       "    <tr style=\"text-align: right;\">\n",
       "      <th></th>\n",
       "      <th>Model name</th>\n",
       "      <th>Speed (ms)</th>\n",
       "      <th>COCO mAP</th>\n",
       "      <th>Outputs</th>\n",
       "      <th>mAP/Speed Ratio</th>\n",
       "    </tr>\n",
       "  </thead>\n",
       "  <tbody>\n",
       "    <tr>\n",
       "      <th>10</th>\n",
       "      <td>CenterNet MobileNetV2 FPN Keypoints 512x512</td>\n",
       "      <td>6</td>\n",
       "      <td>41.7</td>\n",
       "      <td>Keypoints</td>\n",
       "      <td>6.950000</td>\n",
       "    </tr>\n",
       "    <tr>\n",
       "      <th>9</th>\n",
       "      <td>CenterNet MobileNetV2 FPN 512x512</td>\n",
       "      <td>6</td>\n",
       "      <td>23.4</td>\n",
       "      <td>Boxes</td>\n",
       "      <td>3.900000</td>\n",
       "    </tr>\n",
       "    <tr>\n",
       "      <th>5</th>\n",
       "      <td>CenterNet Resnet50 V1 FPN Keypoints 512x512</td>\n",
       "      <td>30</td>\n",
       "      <td>40.0</td>\n",
       "      <td>Boxes/Keypoints</td>\n",
       "      <td>1.333333</td>\n",
       "    </tr>\n",
       "    <tr>\n",
       "      <th>8</th>\n",
       "      <td>CenterNet Resnet50 V2 Keypoints 512x512</td>\n",
       "      <td>30</td>\n",
       "      <td>37.9</td>\n",
       "      <td>Boxes/Keypoints</td>\n",
       "      <td>1.263333</td>\n",
       "    </tr>\n",
       "    <tr>\n",
       "      <th>4</th>\n",
       "      <td>CenterNet Resnet50 V1 FPN 512x512</td>\n",
       "      <td>27</td>\n",
       "      <td>31.2</td>\n",
       "      <td>Boxes</td>\n",
       "      <td>1.155556</td>\n",
       "    </tr>\n",
       "    <tr>\n",
       "      <th>7</th>\n",
       "      <td>CenterNet Resnet50 V2 512x512</td>\n",
       "      <td>27</td>\n",
       "      <td>29.5</td>\n",
       "      <td>Boxes</td>\n",
       "      <td>1.092593</td>\n",
       "    </tr>\n",
       "    <tr>\n",
       "      <th>19</th>\n",
       "      <td>SSD MobileNet v2 320x320</td>\n",
       "      <td>19</td>\n",
       "      <td>20.2</td>\n",
       "      <td>Boxes</td>\n",
       "      <td>1.063158</td>\n",
       "    </tr>\n",
       "    <tr>\n",
       "      <th>21</th>\n",
       "      <td>SSD MobileNet V2 FPNLite 320x320</td>\n",
       "      <td>22</td>\n",
       "      <td>22.2</td>\n",
       "      <td>Boxes</td>\n",
       "      <td>1.009091</td>\n",
       "    </tr>\n",
       "    <tr>\n",
       "      <th>6</th>\n",
       "      <td>CenterNet Resnet101 V1 FPN 512x512</td>\n",
       "      <td>34</td>\n",
       "      <td>34.2</td>\n",
       "      <td>Boxes</td>\n",
       "      <td>1.005882</td>\n",
       "    </tr>\n",
       "    <tr>\n",
       "      <th>11</th>\n",
       "      <td>EfficientDet D0 512x512</td>\n",
       "      <td>39</td>\n",
       "      <td>33.6</td>\n",
       "      <td>Boxes</td>\n",
       "      <td>0.861538</td>\n",
       "    </tr>\n",
       "  </tbody>\n",
       "</table>\n",
       "</div>"
      ],
      "text/plain": [
       "                                     Model name  Speed (ms)  COCO mAP  \\\n",
       "10  CenterNet MobileNetV2 FPN Keypoints 512x512           6      41.7   \n",
       "9             CenterNet MobileNetV2 FPN 512x512           6      23.4   \n",
       "5   CenterNet Resnet50 V1 FPN Keypoints 512x512          30      40.0   \n",
       "8       CenterNet Resnet50 V2 Keypoints 512x512          30      37.9   \n",
       "4             CenterNet Resnet50 V1 FPN 512x512          27      31.2   \n",
       "7                 CenterNet Resnet50 V2 512x512          27      29.5   \n",
       "19                     SSD MobileNet v2 320x320          19      20.2   \n",
       "21             SSD MobileNet V2 FPNLite 320x320          22      22.2   \n",
       "6            CenterNet Resnet101 V1 FPN 512x512          34      34.2   \n",
       "11                      EfficientDet D0 512x512          39      33.6   \n",
       "\n",
       "            Outputs  mAP/Speed Ratio  \n",
       "10        Keypoints         6.950000  \n",
       "9             Boxes         3.900000  \n",
       "5   Boxes/Keypoints         1.333333  \n",
       "8   Boxes/Keypoints         1.263333  \n",
       "4             Boxes         1.155556  \n",
       "7             Boxes         1.092593  \n",
       "19            Boxes         1.063158  \n",
       "21            Boxes         1.009091  \n",
       "6             Boxes         1.005882  \n",
       "11            Boxes         0.861538  "
      ]
     },
     "execution_count": 110,
     "metadata": {},
     "output_type": "execute_result"
    }
   ],
   "source": [
    "# Create column for ratio\n",
    "df['mAP/Speed Ratio'] = df['COCO mAP'] / df['Speed (ms)']\n",
    "df.sort_values(by='mAP/Speed Ratio', ascending=False).head(10)"
   ]
  },
  {
   "cell_type": "markdown",
   "id": "ea1e9014-3c85-4a39-8efd-5e75d6caa2af",
   "metadata": {},
   "source": [
    "Consideirng the ratio and limits of accuracy and speed, the best pre-trained model to be used for the use-case is **`CenterNet MobileNet V2 FPN 512x512`**"
   ]
  },
  {
   "cell_type": "markdown",
   "id": "0cbf34ed",
   "metadata": {},
   "source": [
    "## 3.2 Pre-train model load & setup"
   ]
  },
  {
   "cell_type": "code",
   "execution_count": 111,
   "id": "419fcf0a",
   "metadata": {},
   "outputs": [
    {
     "name": "stdout",
     "output_type": "stream",
     "text": [
      "WARNING:tensorflow:`input_shape` is undefined or non-square, or `rows` is not in [96, 128, 160, 192, 224]. Weights for input shape (224, 224) will be loaded as the default.\n"
     ]
    }
   ],
   "source": [
    "# construct the training image generator for data augmentation\n",
    "aug = ImageDataGenerator(\n",
    "    rotation_range=20,\n",
    "    zoom_range=0.15,\n",
    "    width_shift_range=0.2,\n",
    "    height_shift_range=0.2,\n",
    "    shear_range=0.15,\n",
    "    horizontal_flip=True,\n",
    "    fill_mode=\"nearest\")\n",
    "\n",
    "# load the MobileNetV2 network, ensuring the head FC layer sets are\n",
    "# left off\n",
    "baseModel = MobileNetV2(weights=\"imagenet\", include_top=False,\n",
    "    input_tensor=Input(shape=(224, 224, 3)))\n",
    "\n",
    "# construct the head of the model that will be placed on top of the\n",
    "# the base model\n",
    "headModel = baseModel.output\n",
    "headModel = AveragePooling2D(pool_size=(7, 7))(headModel)\n",
    "headModel = Flatten(name=\"flatten\")(headModel)\n",
    "headModel = Dense(128, activation=\"relu\")(headModel)\n",
    "headModel = Dropout(0.5)(headModel)\n",
    "headModel = Dense(2, activation=\"softmax\")(headModel)\n",
    "\n",
    "# place the head FC model on top of the base model (this will become\n",
    "# the actual model we will train)\n",
    "model = Model(inputs=baseModel.input, outputs=headModel)\n",
    "\n",
    "# loop over all layers in the base model and freeze them so they will\n",
    "# *not* be updated during the first training process\n",
    "for layer in baseModel.layers:\n",
    "    layer.trainable = False"
   ]
  },
  {
   "cell_type": "markdown",
   "id": "57f8e84e",
   "metadata": {},
   "source": [
    "## 3.3 Model Training"
   ]
  },
  {
   "cell_type": "code",
   "execution_count": 132,
   "id": "c51ee3f5",
   "metadata": {},
   "outputs": [
    {
     "name": "stdout",
     "output_type": "stream",
     "text": [
      "[INFO] compiling model...\n",
      "[INFO] training head...\n",
      "Epoch 1/20\n"
     ]
    },
    {
     "name": "stderr",
     "output_type": "stream",
     "text": [
      "2022-04-22 12:11:17.614529: W tensorflow/core/platform/profile_utils/cpu_utils.cc:128] Failed to get CPU frequency: 0 Hz\n",
      "2022-04-22 12:11:18.693333: I tensorflow/core/grappler/optimizers/custom_graph_optimizer_registry.cc:113] Plugin optimizer for device_type GPU is enabled.\n"
     ]
    },
    {
     "name": "stdout",
     "output_type": "stream",
     "text": [
      "3/3 [==============================] - 3s 279ms/step - loss: 0.8399 - accuracy: 0.4688\n",
      "Epoch 2/20\n",
      "3/3 [==============================] - 1s 146ms/step - loss: 0.7569 - accuracy: 0.5208\n",
      "Epoch 3/20\n",
      "3/3 [==============================] - 1s 150ms/step - loss: 0.7020 - accuracy: 0.6354\n",
      "Epoch 4/20\n",
      "3/3 [==============================] - 1s 184ms/step - loss: 0.6471 - accuracy: 0.6667\n",
      "Epoch 5/20\n",
      "3/3 [==============================] - 1s 153ms/step - loss: 0.5768 - accuracy: 0.6875\n",
      "Epoch 6/20\n",
      "3/3 [==============================] - 1s 144ms/step - loss: 0.5778 - accuracy: 0.7188\n",
      "Epoch 7/20\n",
      "3/3 [==============================] - 1s 154ms/step - loss: 0.5046 - accuracy: 0.7604\n",
      "Epoch 8/20\n",
      "3/3 [==============================] - 1s 157ms/step - loss: 0.5014 - accuracy: 0.7604\n",
      "Epoch 9/20\n",
      "3/3 [==============================] - 1s 143ms/step - loss: 0.4246 - accuracy: 0.8542\n",
      "Epoch 10/20\n",
      "3/3 [==============================] - 1s 141ms/step - loss: 0.4585 - accuracy: 0.8438\n",
      "Epoch 11/20\n",
      "3/3 [==============================] - 1s 139ms/step - loss: 0.4333 - accuracy: 0.8125\n",
      "Epoch 12/20\n",
      "3/3 [==============================] - 1s 136ms/step - loss: 0.3737 - accuracy: 0.8750\n",
      "Epoch 13/20\n",
      "3/3 [==============================] - 1s 139ms/step - loss: 0.4034 - accuracy: 0.8854\n",
      "Epoch 14/20\n",
      "3/3 [==============================] - 1s 138ms/step - loss: 0.3725 - accuracy: 0.9062\n",
      "Epoch 15/20\n",
      "3/3 [==============================] - 1s 137ms/step - loss: 0.3657 - accuracy: 0.8646\n",
      "Epoch 16/20\n",
      "3/3 [==============================] - 1s 144ms/step - loss: 0.3370 - accuracy: 0.8958\n",
      "Epoch 17/20\n",
      "3/3 [==============================] - 1s 135ms/step - loss: 0.3345 - accuracy: 0.9271\n",
      "Epoch 18/20\n",
      "3/3 [==============================] - 1s 141ms/step - loss: 0.3445 - accuracy: 0.8750\n",
      "Epoch 19/20\n",
      "3/3 [==============================] - 1s 136ms/step - loss: 0.2970 - accuracy: 0.9062\n",
      "Epoch 20/20\n",
      "3/3 [==============================] - 1s 134ms/step - loss: 0.2978 - accuracy: 0.9167\n"
     ]
    }
   ],
   "source": [
    "# compile our model\n",
    "print(\"[INFO] compiling model...\")\n",
    "opt = Adam(lr=INIT_LR, decay=INIT_LR / EPOCHS)\n",
    "model.compile(loss=\"binary_crossentropy\", optimizer=opt,\n",
    "              metrics=[\"accuracy\"])\n",
    "\n",
    "# train the head of the network\n",
    "print(\"[INFO] training head...\")\n",
    "H = model.fit(\n",
    "    aug.flow(trainX, trainY, batch_size=BATCH),\n",
    "    steps_per_epoch=len(trainX) // BATCH,\n",
    "    validation_data=(testX, testY),\n",
    "    validation_steps=len(testX) // BATCH,\n",
    "    epochs=EPOCHS)"
   ]
  },
  {
   "cell_type": "code",
   "execution_count": null,
   "id": "2edba5df",
   "metadata": {},
   "outputs": [],
   "source": [
    "# make predictions on the testing set\n",
    "print(\"[INFO] evaluating network...\")\n",
    "predIdxs = model.predict(testX, batch_size=BATCH)\n",
    "\n",
    "# for each image in the testing set we need to find the index of the\n",
    "# label with corresponding largest predicted probability\n",
    "predIdxs = np.argmax(predIdxs, axis=1)\n",
    "\n",
    "# show a nicely formatted classification report\n",
    "print(classification_report(testY.argmax(axis=1), predIdxs,\n",
    "                            target_names=lb.classes_))\n",
    "\n",
    "# serialize the model to disk\n",
    "print(\"[INFO] saving mask detector model...\")\n",
    "model_name = \"mask_detector_20.model\"\n",
    "model.save(os.path.join(MODEL_PATH, model_name), save_format=\"h5\")"
   ]
  },
  {
   "cell_type": "markdown",
   "id": "ee6dd63b",
   "metadata": {},
   "source": [
    "# 4.0 Model Evaluation"
   ]
  },
  {
   "cell_type": "code",
   "execution_count": 139,
   "id": "0fe46dba",
   "metadata": {},
   "outputs": [
    {
     "name": "stdout",
     "output_type": "stream",
     "text": [
      "[INFO] evaluating network...\n",
      "              precision    recall  f1-score   support\n",
      "\n",
      "        mask       1.00      1.00      1.00        16\n",
      "     no mask       1.00      1.00      1.00         8\n",
      "\n",
      "    accuracy                           1.00        24\n",
      "   macro avg       1.00      1.00      1.00        24\n",
      "weighted avg       1.00      1.00      1.00        24\n",
      "\n",
      "[INFO] saving mask detector model...\n"
     ]
    },
    {
     "data": {
      "image/png": "[encoded data removed]",
      "text/plain": [
       "<Figure size 432x288 with 1 Axes>"
      ]
     },
     "metadata": {},
     "output_type": "display_data"
    }
   ],
   "source": [
    "# plot the training loss and accuracy\n",
    "N = EPOCHS\n",
    "plt.style.use(\"ggplot\")\n",
    "plt.figure()\n",
    "plt.plot(np.arange(0, N), H.history[\"loss\"], label=\"train_loss\")\n",
    "# plt.plot(np.arange(0, N), H.history[\"val_loss\"], label=\"val_loss\")\n",
    "plt.plot(np.arange(0, N), H.history[\"accuracy\"], label=\"train_acc\")\n",
    "# plt.plot(np.arange(0, N), H.history[\"val_accuracy\"], label=\"val_acc\")\n",
    "plt.title(\"Training Loss and Accuracy\")\n",
    "plt.xlabel(\"Epoch #\")\n",
    "plt.ylabel(\"Loss/Accuracy\")\n",
    "plt.legend(loc=\"lower left\");"
   ]
  },
  {
   "cell_type": "code",
   "execution_count": null,
   "id": "a76581b6",
   "metadata": {},
   "outputs": [],
   "source": []
  }
 ],
 "metadata": {
  "kernelspec": {
   "display_name": "fmdenv",
   "language": "python",
   "name": "fmdenv"
  },
  "language_info": {
   "codemirror_mode": {
    "name": "ipython",
    "version": 3
   },
   "file_extension": ".py",
   "mimetype": "text/x-python",
   "name": "python",
   "nbconvert_exporter": "python",
   "pygments_lexer": "ipython3",
   "version": "3.9.10"
  }
 },
 "nbformat": 4,
 "nbformat_minor": 5
}
